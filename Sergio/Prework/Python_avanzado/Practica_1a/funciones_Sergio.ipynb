{
 "cells": [
  {
   "cell_type": "markdown",
   "metadata": {
    "vscode": {
     "languageId": "plaintext"
    }
   },
   "source": [
    "1. Define una función llamada \"saludar\" que tome un parámetro \"nombre\"\n",
    "y muestre un saludo personalizado."
   ]
  },
  {
   "cell_type": "code",
   "execution_count": 1,
   "metadata": {},
   "outputs": [
    {
     "name": "stdout",
     "output_type": "stream",
     "text": [
      "¡Hola Sergio!\n"
     ]
    }
   ],
   "source": [
    "def saludar(nombre):\n",
    "    print(f'¡Hola {nombre.title()}!')\n",
    "saludar('Sergio')"
   ]
  },
  {
   "cell_type": "markdown",
   "metadata": {},
   "source": [
    "2. Crea una función llamada \"suma\" que tome dos parámetros \"a\" y \"b\" e\n",
    "imprima la suma de ambos."
   ]
  },
  {
   "cell_type": "code",
   "execution_count": 3,
   "metadata": {},
   "outputs": [
    {
     "name": "stdout",
     "output_type": "stream",
     "text": [
      "9\n"
     ]
    }
   ],
   "source": [
    "def suma(a,b):\n",
    "    sumatorio = a+b\n",
    "    return sumatorio\n",
    "sumatorio = suma(4,5)\n",
    "print(sumatorio)"
   ]
  },
  {
   "cell_type": "markdown",
   "metadata": {},
   "source": [
    "3. Escribe una función llamada \"calcular_area_rectangulo\" que tome dos\n",
    "parámetros \"base\" y \"altura\" y calcule el área de un rectángulo."
   ]
  },
  {
   "cell_type": "code",
   "execution_count": 5,
   "metadata": {},
   "outputs": [
    {
     "name": "stdout",
     "output_type": "stream",
     "text": [
      "El area es: 6.0\n"
     ]
    }
   ],
   "source": [
    "def calcular_area_rectangulo(base, altura):\n",
    "    area = 0.5*base*altura\n",
    "    print(f'El area es: {area}')\n",
    "calcular_area_rectangulo(3,4)"
   ]
  },
  {
   "cell_type": "markdown",
   "metadata": {},
   "source": [
    "4. Define una función llamada \"imprimir_lista\" que tome una lista como\n",
    "parámetro y la imprima en la consola."
   ]
  },
  {
   "cell_type": "code",
   "execution_count": 6,
   "metadata": {},
   "outputs": [
    {
     "name": "stdout",
     "output_type": "stream",
     "text": [
      "[1, 2, 3, 4]\n"
     ]
    }
   ],
   "source": [
    "def imprimir_lista(lista_1):\n",
    "    print(lista_1)\n",
    "imprimir_lista([1,2,3,4])"
   ]
  },
  {
   "cell_type": "markdown",
   "metadata": {},
   "source": [
    "5. Crea una función llamada \"es_par\" que tome un número como\n",
    "parámetro e imprima True si es par, o False si es impar."
   ]
  },
  {
   "cell_type": "code",
   "execution_count": 8,
   "metadata": {},
   "outputs": [
    {
     "name": "stdout",
     "output_type": "stream",
     "text": [
      "True\n"
     ]
    }
   ],
   "source": [
    "def es_par(num):\n",
    "    if num % 2 == 0:\n",
    "        print('True')\n",
    "    else:\n",
    "        print('False')\n",
    "es_par(6)"
   ]
  },
  {
   "cell_type": "markdown",
   "metadata": {},
   "source": [
    "6. Escribe una función llamada \"concatenar_strings\" que tome dos\n",
    "parámetros \"cadena1\" y “cadena2\" e imprima la concatenación de\n",
    "ambas cadenas."
   ]
  },
  {
   "cell_type": "code",
   "execution_count": 9,
   "metadata": {},
   "outputs": [
    {
     "name": "stdout",
     "output_type": "stream",
     "text": [
      "HolaSergio\n"
     ]
    }
   ],
   "source": [
    "def concatenar_strings(cadena_1, cadena_2):\n",
    "    print(cadena_1+cadena_2)\n",
    "concatenar_strings('Hola','Sergio')"
   ]
  },
  {
   "cell_type": "markdown",
   "metadata": {},
   "source": [
    "7. Define una función llamada \"obtener_maximo\" que tome una lista de\n",
    "números como parámetro y devuelva el número máximo de la lista."
   ]
  },
  {
   "cell_type": "code",
   "execution_count": 11,
   "metadata": {},
   "outputs": [
    {
     "name": "stdout",
     "output_type": "stream",
     "text": [
      "5\n"
     ]
    }
   ],
   "source": [
    "def obtener_maximo(nums):\n",
    "    maximo = max(nums)\n",
    "    print(maximo)\n",
    "obtener_maximo([1,2,5,2,3])"
   ]
  },
  {
   "cell_type": "markdown",
   "metadata": {},
   "source": [
    "8. Crea una función llamada \"convertir_fahrenheit_a_celsius\" que tome un\n",
    "parámetro \"fahrenheit\" y devuelva su equivalente en grados Celsius."
   ]
  },
  {
   "cell_type": "code",
   "execution_count": 12,
   "metadata": {},
   "outputs": [
    {
     "name": "stdout",
     "output_type": "stream",
     "text": [
      "21.11111111111111\n"
     ]
    }
   ],
   "source": [
    "def convertir_fahrenheit_a_celsius(fahrenheit):\n",
    "    celsius = (fahrenheit-32)*5/9\n",
    "    print(celsius)\n",
    "convertir_fahrenheit_a_celsius(70)"
   ]
  },
  {
   "cell_type": "markdown",
   "metadata": {},
   "source": [
    "9. Escribe una función llamada \"calcular_edad\" que tome dos parámetros:\n",
    "\"año_actual\" y \"año_nacimiento\" y calcule la edad de una persona."
   ]
  },
  {
   "cell_type": "code",
   "execution_count": 13,
   "metadata": {},
   "outputs": [
    {
     "name": "stdout",
     "output_type": "stream",
     "text": [
      "30\n"
     ]
    }
   ],
   "source": [
    "def calcular_edad(año_actual, año_nacimiento):\n",
    "    edad = año_actual - año_nacimiento\n",
    "    print(edad)\n",
    "calcular_edad(2024,1994)"
   ]
  },
  {
   "cell_type": "markdown",
   "metadata": {},
   "source": [
    "10. Define una función llamada \"es_divisible\" que tome dos parámetros\n",
    "\"num\" y \"divisor\" e imprima True si \"num\" es divisible por \"divisor\", o\n",
    "False si no lo es."
   ]
  },
  {
   "cell_type": "code",
   "execution_count": 15,
   "metadata": {},
   "outputs": [
    {
     "name": "stdout",
     "output_type": "stream",
     "text": [
      "True\n"
     ]
    }
   ],
   "source": [
    "def es_divisible(num, divisor):\n",
    "    if num % divisor == 0:\n",
    "        print(True)\n",
    "    else:\n",
    "        print('False')\n",
    "es_divisible(4,2)"
   ]
  },
  {
   "cell_type": "markdown",
   "metadata": {},
   "source": [
    "11. Crea una función llamada \"mostrar_info_persona\" que tome tres\n",
    "argumentos de palabra clave: \"nombre\", \"edad\" y \"ciudad\". La función\n",
    "debe imprimir en la consola la información de una persona en un\n",
    "formato legible."
   ]
  },
  {
   "cell_type": "code",
   "execution_count": 16,
   "metadata": {},
   "outputs": [
    {
     "name": "stdout",
     "output_type": "stream",
     "text": [
      "Sergio tiene 30 años y es de Basauri\n"
     ]
    }
   ],
   "source": [
    "def mostrar_info_persona(nombre, edad, ciudad):\n",
    "    print(f'{nombre.title()} tiene {edad} años y es de {ciudad.title()}')\n",
    "\n",
    "mostrar_info_persona('Sergio', 30, 'Basauri')"
   ]
  }
 ],
 "metadata": {
  "kernelspec": {
   "display_name": "work",
   "language": "python",
   "name": "python3"
  },
  "language_info": {
   "codemirror_mode": {
    "name": "ipython",
    "version": 3
   },
   "file_extension": ".py",
   "mimetype": "text/x-python",
   "name": "python",
   "nbconvert_exporter": "python",
   "pygments_lexer": "ipython3",
   "version": "3.9.19"
  }
 },
 "nbformat": 4,
 "nbformat_minor": 2
}

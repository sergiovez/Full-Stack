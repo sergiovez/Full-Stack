{
 "cells": [
  {
   "attachments": {},
   "cell_type": "markdown",
   "metadata": {},
   "source": [
    "1. Define una función llamada \"saludar\" que tome un parámetro \"nombre\" y muestre un saludo personalizado."
   ]
  },
  {
   "cell_type": "code",
   "execution_count": 19,
   "metadata": {},
   "outputs": [
    {
     "name": "stdout",
     "output_type": "stream",
     "text": [
      "Hola, Elena. ¡Bienvenido/a!\n"
     ]
    }
   ],
   "source": [
    "def saludar(nombre):\n",
    "    print(\"Hola,\", nombre + \".\", \"¡Bienvenido/a!\")\\\n",
    "\n",
    "saludar(\"Elena\")"
   ]
  },
  {
   "cell_type": "code",
   "execution_count": null,
   "metadata": {},
   "outputs": [],
   "source": []
  },
  {
   "attachments": {},
   "cell_type": "markdown",
   "metadata": {},
   "source": [
    "2. Crea una función llamada \"suma\" que tome dos parámetros \"a\" y \"b\" e imprima la suma de ambos."
   ]
  },
  {
   "cell_type": "code",
   "execution_count": 20,
   "metadata": {},
   "outputs": [
    {
     "name": "stdout",
     "output_type": "stream",
     "text": [
      "6\n"
     ]
    }
   ],
   "source": [
    "def suma(a,b):\n",
    "    valor_suma = a + b\n",
    "    print(valor_suma)\n",
    "\n",
    "suma(a=3,b=3)"
   ]
  },
  {
   "attachments": {},
   "cell_type": "markdown",
   "metadata": {},
   "source": [
    "3. Escribe una función llamada \"calcular_area_rectangulo\" que tome dos parámetros \"base\" y \"altura\" y calcule el área de un rectángulo."
   ]
  },
  {
   "cell_type": "code",
   "execution_count": 21,
   "metadata": {},
   "outputs": [
    {
     "name": "stdout",
     "output_type": "stream",
     "text": [
      "150.0\n"
     ]
    }
   ],
   "source": [
    "def calcular_area_rectangulo(base, altura):\n",
    "    area_rectangulo = base * altura\n",
    "    print(area_rectangulo)\n",
    "\n",
    "calcular_area_rectangulo(base = 10.0, altura = 15.0)"
   ]
  },
  {
   "attachments": {},
   "cell_type": "markdown",
   "metadata": {},
   "source": [
    "4. Define una función llamada \"imprimir_lista\" que tome una lista como parámetro y la imprima en la consola."
   ]
  },
  {
   "cell_type": "code",
   "execution_count": 22,
   "metadata": {},
   "outputs": [
    {
     "name": "stdout",
     "output_type": "stream",
     "text": [
      "[1, 2, 3, 4, 5, 6, 7]\n"
     ]
    }
   ],
   "source": [
    "def imprimir_lista(lista):\n",
    "    print(lista)\n",
    "\n",
    "mi_lista = [1,2,3,4,5,6,7]\n",
    "imprimir_lista(mi_lista)"
   ]
  },
  {
   "cell_type": "code",
   "execution_count": 23,
   "metadata": {},
   "outputs": [
    {
     "name": "stdout",
     "output_type": "stream",
     "text": [
      "1\n",
      "2\n",
      "3\n",
      "4\n",
      "5\n",
      "6\n",
      "7\n"
     ]
    }
   ],
   "source": [
    "def imprimir_lista(lista):\n",
    "    for elemento in lista:\n",
    "        print(elemento)\n",
    "\n",
    "mi_lista = [1,2,3,4,5,6,7]\n",
    "imprimir_lista(mi_lista)"
   ]
  },
  {
   "attachments": {},
   "cell_type": "markdown",
   "metadata": {},
   "source": [
    "5. Crea una función llamada \"es_par\" que tome un número como parámetro e imprima True si es par, o False si es impar."
   ]
  },
  {
   "cell_type": "code",
   "execution_count": 24,
   "metadata": {},
   "outputs": [
    {
     "name": "stdout",
     "output_type": "stream",
     "text": [
      "False\n"
     ]
    }
   ],
   "source": [
    "def es_par(numero):\n",
    "    if numero % 2 == 0:\n",
    "        print(True)\n",
    "    else:\n",
    "        print(False)\n",
    "\n",
    "es_par(3)"
   ]
  },
  {
   "attachments": {},
   "cell_type": "markdown",
   "metadata": {},
   "source": [
    "6. Escribe una función llamada \"concatenar_strings\" que tome dos parámetros \"cadena1\" y “cadena2\" e imprima la concatenación de ambas cadenas."
   ]
  },
  {
   "cell_type": "code",
   "execution_count": 25,
   "metadata": {},
   "outputs": [
    {
     "name": "stdout",
     "output_type": "stream",
     "text": [
      "Hola Mundo\n"
     ]
    }
   ],
   "source": [
    "def concatenar_strings(cadena1, cadena2):\n",
    "    concatenacion = cadena1 + cadena2\n",
    "    print(concatenacion)\n",
    "\n",
    "concatenar_strings(\"Hola\", \" Mundo\")"
   ]
  },
  {
   "attachments": {},
   "cell_type": "markdown",
   "metadata": {},
   "source": [
    "7. Define una función llamada \"obtener_maximo\" que tome una lista de números como parámetro y devuelva el número máximo de la lista."
   ]
  },
  {
   "cell_type": "code",
   "execution_count": 26,
   "metadata": {},
   "outputs": [
    {
     "name": "stdout",
     "output_type": "stream",
     "text": [
      "45\n",
      "23\n"
     ]
    }
   ],
   "source": [
    "def obtener_maximo(lista_numeros):\n",
    "    maximo = max(lista_numeros)\n",
    "    print(maximo)\n",
    "\n",
    "mi_lista = [10,20,23,13,45,6]\n",
    "otra_lista = [10,20,23,13,12,6]\n",
    "obtener_maximo(mi_lista)\n",
    "obtener_maximo(otra_lista)"
   ]
  },
  {
   "attachments": {},
   "cell_type": "markdown",
   "metadata": {},
   "source": [
    "8. Crea una función llamada \"convertir_fahrenheit_a_celsius\" que tome un parámetro \"fahrenheit\" y devuelva su equivalente en grados Celsius."
   ]
  },
  {
   "cell_type": "code",
   "execution_count": 27,
   "metadata": {},
   "outputs": [
    {
     "name": "stdout",
     "output_type": "stream",
     "text": [
      "37.77777777777778\n"
     ]
    }
   ],
   "source": [
    "def convertit_fahrenheit_a_celsius(fahrenheit):\n",
    "    celsius = (fahrenheit - 32) * 5 / 9\n",
    "    print(celsius)\n",
    "\n",
    "convertit_fahrenheit_a_celsius(100)"
   ]
  },
  {
   "attachments": {},
   "cell_type": "markdown",
   "metadata": {},
   "source": [
    "9. Escribe una función llamada \"calcular_edad\" que tome dos parámetros: \"año_actual\" y \"año_nacimiento\" y calcule la edad de una persona."
   ]
  },
  {
   "cell_type": "code",
   "execution_count": 28,
   "metadata": {},
   "outputs": [
    {
     "name": "stdout",
     "output_type": "stream",
     "text": [
      "33\n"
     ]
    }
   ],
   "source": [
    "def calcular_edad(anio_nacimiento, anio_actual = 2023):\n",
    "    edad = anio_actual - anio_nacimiento\n",
    "    print(edad)\n",
    "\n",
    "calcular_edad(1990)"
   ]
  },
  {
   "attachments": {},
   "cell_type": "markdown",
   "metadata": {},
   "source": [
    "10.  Define una función llamada \"es_divisible\" que tome dos parámetros \"num\" y \"divisor\" e imprima True si \"num\" es divisible por \"divisor\", o False si no lo es."
   ]
  },
  {
   "cell_type": "code",
   "execution_count": 29,
   "metadata": {},
   "outputs": [
    {
     "name": "stdout",
     "output_type": "stream",
     "text": [
      "False\n"
     ]
    }
   ],
   "source": [
    "def es_divisible(num, divisor):\n",
    "    if num % divisor == 0:\n",
    "        resultado = True\n",
    "    else:\n",
    "        resultado = False\n",
    "    print(resultado)\n",
    "\n",
    "es_divisible(11,2)"
   ]
  },
  {
   "attachments": {},
   "cell_type": "markdown",
   "metadata": {},
   "source": [
    "11.  Crea una función llamada \"mostrar_info_persona\" que tome tres argumentos de palabra clave: \"nombre\", \"edad\" y \"ciudad\". La función debe imprimir en la consola la información de una persona en un formato legible."
   ]
  },
  {
   "cell_type": "code",
   "execution_count": 30,
   "metadata": {},
   "outputs": [
    {
     "name": "stdout",
     "output_type": "stream",
     "text": [
      "Nombre: Juan\n",
      "Edad: 25\n",
      "Ciudad: Madrid\n"
     ]
    }
   ],
   "source": [
    "#def mostrar_info_persona(nombre = None, edad = None, ciudad = None):\n",
    "def mostrar_info_persona(nombre, edad, ciudad):\n",
    "    print(\"Nombre:\", nombre)\n",
    "    print(\"Edad:\", edad)\n",
    "    print(\"Ciudad:\", ciudad)\n",
    "\n",
    "mostrar_info_persona(nombre = \"Juan\", edad = 25, ciudad = \"Madrid\")\n"
   ]
  },
  {
   "attachments": {},
   "cell_type": "markdown",
   "metadata": {},
   "source": [
    "12.  Escribe una función llamada \"calcular_promedio\" que tome una lista de números como parámetro y calcule el promedio de esos números. Si no se proporciona una lista, debe usar una lista vacía por defecto."
   ]
  },
  {
   "cell_type": "code",
   "execution_count": 31,
   "metadata": {},
   "outputs": [
    {
     "name": "stdout",
     "output_type": "stream",
     "text": [
      "0\n"
     ]
    }
   ],
   "source": [
    "def calcular_promedio(lista = []):\n",
    "    if len(lista) == 0:\n",
    "        resultado = 0\n",
    "    else:\n",
    "        resultado = sum(lista) / len(lista)\n",
    "\n",
    "    print(resultado)\n",
    "\n",
    "calcular_promedio()"
   ]
  },
  {
   "attachments": {},
   "cell_type": "markdown",
   "metadata": {},
   "source": [
    "14.  Crea una función llamada \"calcular_potencia\" que tome dos parámetros \"base\" y \"exponente\", y calcule la potencia de la base elevada al exponente. Utiliza 2 como valor por defecto para el exponente."
   ]
  },
  {
   "cell_type": "code",
   "execution_count": 32,
   "metadata": {},
   "outputs": [
    {
     "name": "stdout",
     "output_type": "stream",
     "text": [
      "27\n"
     ]
    }
   ],
   "source": [
    "def calcular_potencia(base, exponente = 2):\n",
    "    resultado = base ** exponente\n",
    "    print(resultado)\n",
    "\n",
    "\n",
    "calcular_potencia(base = 3, exponente = 3)"
   ]
  },
  {
   "attachments": {},
   "cell_type": "markdown",
   "metadata": {},
   "source": [
    "15.  Define una función llamada \"imprimir_info_alumno\" que tome un argumento posicional \"nombre\" y varios argumentos de palabra clave: \"edad\", \"curso\" y \"promedio\". La función debe imprimir la información del alumno en un formato legible."
   ]
  },
  {
   "cell_type": "code",
   "execution_count": 33,
   "metadata": {},
   "outputs": [
    {
     "name": "stdout",
     "output_type": "stream",
     "text": [
      "Nombre: Juan\n",
      "Edad: 13\n",
      "Curso: 3\n",
      "Promedio: 8.0\n"
     ]
    }
   ],
   "source": [
    "def imprimir_info_alumno(nombre, edad = None, curso = None, promedio = None):\n",
    "    print(\"Nombre:\", nombre)\n",
    "    if edad is not None:\n",
    "        print(\"Edad:\", edad)\n",
    "    if curso is not None:\n",
    "        print(\"Curso:\", curso)\n",
    "    if promedio is not None:\n",
    "        print(\"Promedio:\", promedio)\n",
    "\n",
    "imprimir_info_alumno(\"Juan\", curso = 3, edad = 13, promedio = 8.0)"
   ]
  }
 ],
 "metadata": {
  "kernelspec": {
   "display_name": "cblocks",
   "language": "python",
   "name": "python3"
  },
  "language_info": {
   "codemirror_mode": {
    "name": "ipython",
    "version": 3
   },
   "file_extension": ".py",
   "mimetype": "text/x-python",
   "name": "python",
   "nbconvert_exporter": "python",
   "pygments_lexer": "ipython3",
   "version": "3.9.16"
  },
  "orig_nbformat": 4
 },
 "nbformat": 4,
 "nbformat_minor": 2
}

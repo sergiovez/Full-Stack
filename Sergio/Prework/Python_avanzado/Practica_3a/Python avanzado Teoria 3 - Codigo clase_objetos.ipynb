{
 "cells": [
  {
   "attachments": {},
   "cell_type": "markdown",
   "metadata": {},
   "source": [
    "# CLASE PERSONA\n",
    "Define una clase Persona con atributos como nombre, edad y profesión. Luego, crea varios objetos de esta clase y muestra su información."
   ]
  },
  {
   "cell_type": "code",
   "execution_count": 1,
   "metadata": {},
   "outputs": [
    {
     "name": "stdout",
     "output_type": "stream",
     "text": [
      "Juan 30 Abogado\n",
      "Maria 25 Ingeniera\n"
     ]
    }
   ],
   "source": [
    "class Persona:\n",
    "    def __init__(self, nombre, edad, profesion):\n",
    "        self.nombre = nombre\n",
    "        self.edad = edad\n",
    "        self.profesion = profesion\n",
    "\n",
    "persona1 = Persona(\"Juan\", 30, \"Abogado\")\n",
    "persona2 = Persona(\"Maria\", 25, \"Ingeniera\")\n",
    "\n",
    "print(persona1.nombre, persona1.edad, persona1.profesion)\n",
    "print(persona2.nombre, persona2.edad, persona2.profesion)"
   ]
  },
  {
   "attachments": {},
   "cell_type": "markdown",
   "metadata": {},
   "source": [
    "# CALCULADORA BASICA\n",
    "Crea una clase llamada \"Calculadora\" con métodos para sumar, restar, multiplicar y dividir. Crea objetos de esta clase y realiza algunas operaciones básicas."
   ]
  },
  {
   "cell_type": "code",
   "execution_count": 3,
   "metadata": {},
   "outputs": [
    {
     "name": "stdout",
     "output_type": "stream",
     "text": [
      "8\n",
      "2\n",
      "15\n",
      "1.6666666666666667\n"
     ]
    }
   ],
   "source": [
    "class Calculadora:\n",
    "    def sumar(self, a, b):\n",
    "        return a + b\n",
    "\n",
    "    def restar(self, a, b):\n",
    "        return a - b\n",
    "    \n",
    "    def multiplicar(self, a, b):\n",
    "        return a * b\n",
    "    \n",
    "    def dividir(self, a, b):\n",
    "        return a / b\n",
    "\n",
    "calculadora = Calculadora()\n",
    "print(calculadora.sumar(5,3))\n",
    "print(calculadora.restar(5,3))\n",
    "print(calculadora.multiplicar(5,3))\n",
    "print(calculadora.dividir(5,3))"
   ]
  },
  {
   "attachments": {},
   "cell_type": "markdown",
   "metadata": {},
   "source": [
    "# LIBRO\n",
    "Crea una clase \"Libro\" con atributos como título, autor y año de publicación. Luego, crea varios objetos Libro y muestra su información."
   ]
  },
  {
   "cell_type": "code",
   "execution_count": 4,
   "metadata": {},
   "outputs": [
    {
     "name": "stdout",
     "output_type": "stream",
     "text": [
      "Python para principiantes John Doe 2020\n",
      "Aprende Python en 30 dias Jane Smith 2011\n"
     ]
    }
   ],
   "source": [
    "class Libro:\n",
    "    def __init__(self, titulo, autor, anio_publicacion):\n",
    "        self.titulo = titulo\n",
    "        self.autor = autor\n",
    "        self.anio_publicacion = anio_publicacion\n",
    "\n",
    "libro1 = Libro(\"Python para principiantes\", \"John Doe\", 2020)\n",
    "libro2 = Libro(\"Aprende Python en 30 dias\", \"Jane Smith\", 2011)\n",
    "\n",
    "print(libro1.titulo, libro1.autor, libro1.anio_publicacion)\n",
    "print(libro2.titulo, libro2.autor, libro2.anio_publicacion)\n",
    "\n"
   ]
  },
  {
   "attachments": {},
   "cell_type": "markdown",
   "metadata": {},
   "source": [
    "# RECTÁNGULO\n",
    "Crea una clase \"Rectangulo\" con atributos de longitud y ancho. Implementa un método para calcular el área y el perímetro del rectángulo."
   ]
  },
  {
   "cell_type": "code",
   "execution_count": 5,
   "metadata": {},
   "outputs": [
    {
     "name": "stdout",
     "output_type": "stream",
     "text": [
      "Area: 15\n",
      "Perimetro: 16\n"
     ]
    }
   ],
   "source": [
    "class Rectangulo:\n",
    "    def __init__(self,longitud, ancho):\n",
    "        self.longitud = longitud\n",
    "        self.ancho = ancho\n",
    "\n",
    "    def calcular_area(self):\n",
    "        area = self.longitud * self.ancho\n",
    "        return area\n",
    "\n",
    "    def calcular_perimetro(self):\n",
    "        return 2 * (self.longitud + self.ancho)\n",
    "\n",
    "rectangulo1 = Rectangulo(5,3)\n",
    "print(\"Area:\", rectangulo1.calcular_area())\n",
    "print(\"Perimetro:\", rectangulo1.calcular_perimetro())\n"
   ]
  },
  {
   "attachments": {},
   "cell_type": "markdown",
   "metadata": {},
   "source": [
    "# DADO\n",
    "Crea una clase \"Dado\" que simule el lanzamiento de un dado de 6 caras. Implementa un método para lanzar el dado y mostrar el resultado."
   ]
  },
  {
   "cell_type": "code",
   "execution_count": 30,
   "metadata": {},
   "outputs": [
    {
     "name": "stdout",
     "output_type": "stream",
     "text": [
      "Resultado del dado 1: 4\n",
      "Resultado del dado 2: 2\n"
     ]
    }
   ],
   "source": [
    "import random\n",
    "\n",
    "class Dado:\n",
    "    def lanzar_dado(self):\n",
    "        lanzamiento = random.randint(1,6)\n",
    "        return lanzamiento\n",
    "\n",
    "dado1 = Dado()\n",
    "dado2 = Dado()\n",
    "resultado1 = dado1.lanzar_dado()\n",
    "resultado2 = dado2.lanzar_dado()\n",
    "print(\"Resultado del dado 1:\", resultado1)\n",
    "print(\"Resultado del dado 2:\", resultado2)\n"
   ]
  },
  {
   "attachments": {},
   "cell_type": "markdown",
   "metadata": {},
   "source": [
    "# COCHE\n",
    "Crea una clase \"Coche\" con atributos como marca, modelo y año. Implementa un método para encender el coche y otro para apagarlo."
   ]
  },
  {
   "cell_type": "code",
   "execution_count": 38,
   "metadata": {},
   "outputs": [
    {
     "ename": "AttributeError",
     "evalue": "'Coche' object has no attribute 'encendido'",
     "output_type": "error",
     "traceback": [
      "\u001b[0;31m---------------------------------------------------------------------------\u001b[0m",
      "\u001b[0;31mAttributeError\u001b[0m                            Traceback (most recent call last)",
      "Cell \u001b[0;32mIn[38], line 14\u001b[0m\n\u001b[1;32m     11\u001b[0m         \u001b[39mself\u001b[39m\u001b[39m.\u001b[39mencendido \u001b[39m=\u001b[39m \u001b[39mFalse\u001b[39;00m\n\u001b[1;32m     13\u001b[0m mi_coche \u001b[39m=\u001b[39m Coche(\u001b[39m\"\u001b[39m\u001b[39mToyota\u001b[39m\u001b[39m\"\u001b[39m, \u001b[39m\"\u001b[39m\u001b[39mCorolla\u001b[39m\u001b[39m\"\u001b[39m, \u001b[39m2015\u001b[39m)\n\u001b[0;32m---> 14\u001b[0m \u001b[39mprint\u001b[39m(\u001b[39m\"\u001b[39m\u001b[39mEl coche esta encendido:\u001b[39m\u001b[39m\"\u001b[39m, mi_coche\u001b[39m.\u001b[39;49mencendido)\n\u001b[1;32m     15\u001b[0m mi_coche\u001b[39m.\u001b[39mencender()\n\u001b[1;32m     16\u001b[0m \u001b[39mprint\u001b[39m(\u001b[39m\"\u001b[39m\u001b[39mEl coche esta encendido:\u001b[39m\u001b[39m\"\u001b[39m, mi_coche\u001b[39m.\u001b[39mencendido)\n",
      "\u001b[0;31mAttributeError\u001b[0m: 'Coche' object has no attribute 'encendido'"
     ]
    }
   ],
   "source": [
    "class Coche:\n",
    "    def __init__(self, marca, modelo, anio):\n",
    "        self.marca = marca\n",
    "        self.modelo = modelo\n",
    "        self. anio = anio\n",
    "        self.encendido = False\n",
    "\n",
    "    def encender(self):\n",
    "        self.encendido = True\n",
    "\n",
    "    def apagar(self):\n",
    "        self.encendido = False\n",
    "\n",
    "mi_coche = Coche(\"Toyota\", \"Corolla\", 2015)\n",
    "print(\"El coche esta encendido:\", mi_coche.encendido)\n",
    "mi_coche.encender()\n",
    "print(\"El coche esta encendido:\", mi_coche.encendido)\n",
    "mi_coche.apagar()\n",
    "print(\"El coche esta encendido:\", mi_coche.encendido)\n"
   ]
  }
 ],
 "metadata": {
  "kernelspec": {
   "display_name": "cblocks",
   "language": "python",
   "name": "python3"
  },
  "language_info": {
   "codemirror_mode": {
    "name": "ipython",
    "version": 3
   },
   "file_extension": ".py",
   "mimetype": "text/x-python",
   "name": "python",
   "nbconvert_exporter": "python",
   "pygments_lexer": "ipython3",
   "version": "3.9.16"
  },
  "orig_nbformat": 4
 },
 "nbformat": 4,
 "nbformat_minor": 2
}
